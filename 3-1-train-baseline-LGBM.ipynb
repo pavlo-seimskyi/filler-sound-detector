{
  "nbformat": 4,
  "nbformat_minor": 0,
  "metadata": {
    "colab": {
      "provenance": [],
      "authorship_tag": "ABX9TyOwjgmObo3Gl0ivHkkNtVJ3",
      "include_colab_link": true
    },
    "kernelspec": {
      "name": "python3",
      "display_name": "Python 3"
    },
    "language_info": {
      "name": "python"
    },
    "accelerator": "GPU",
    "gpuClass": "standard"
  },
  "cells": [
    {
      "cell_type": "markdown",
      "metadata": {
        "id": "view-in-github",
        "colab_type": "text"
      },
      "source": [
        "<a href=\"https://colab.research.google.com/github/pavlo-seimskyi/filler-sound-detector/blob/train-first-model/3-1-train-baseline-LGBM.ipynb\" target=\"_parent\"><img src=\"https://colab.research.google.com/assets/colab-badge.svg\" alt=\"Open In Colab\"/></a>"
      ]
    },
    {
      "cell_type": "code",
      "execution_count": 1,
      "metadata": {
        "id": "VMr6J8D7d1nn"
      },
      "outputs": [],
      "source": [
        "%%capture\n",
        "!pip install torch -U\n",
        "!pip install torchaudio -U\n",
        "!pip3 install pickle5\n",
        "!git clone --recursive https://github.com/Microsoft/LightGBM\n",
        "!cd LightGBM && rm -rf build && mkdir build && cd build && cmake -DUSE_GPU=1 ../../LightGBM && make -j4 && cd ../python-package && python3 setup.py install --precompile --gpu;"
      ]
    },
    {
      "cell_type": "code",
      "source": [
        "import os\n",
        "import shutil\n",
        "import pickle5 as pickle\n",
        "import logging\n",
        "\n",
        "import numpy as np\n",
        "\n",
        "import matplotlib.pyplot as plt\n",
        "import seaborn as sns\n",
        "import plotly.express as px\n",
        "\n",
        "from torchaudio import functional as F, transforms as T\n",
        "import torch\n",
        "\n",
        "import lightgbm as lgb\n",
        "\n",
        "from sklearn.model_selection import train_test_split, GridSearchCV\n",
        "from sklearn.metrics import (\n",
        "    ConfusionMatrixDisplay,\n",
        "    PrecisionRecallDisplay,\n",
        "    f1_score,\n",
        "    precision_score,\n",
        "    recall_score,\n",
        "    average_precision_score,\n",
        ")"
      ],
      "metadata": {
        "id": "TogJg2o_d-xS"
      },
      "execution_count": 2,
      "outputs": []
    },
    {
      "cell_type": "code",
      "source": [
        "from google.colab import drive\n",
        "drive.mount('/content/drive')"
      ],
      "metadata": {
        "colab": {
          "base_uri": "https://localhost:8080/"
        },
        "id": "AYIsdj_beN1K",
        "outputId": "9c3ba939-3dca-4cb9-d0ec-f0031ad9e923"
      },
      "execution_count": 3,
      "outputs": [
        {
          "output_type": "stream",
          "name": "stdout",
          "text": [
            "Mounted at /content/drive\n"
          ]
        }
      ]
    },
    {
      "cell_type": "code",
      "source": [
        "TEXT_COLOR = '#313131'\n",
        "# Plotly colors\n",
        "LINE_COLORS = ['#636EFA', '#EF553B', '#00CC96', '#AB63FA', '#FFA15A', '#19D3F3', '#FF6692', '#B6E880', '#FF97FF', '#FECB52']\n",
        "\n",
        "sns.set(\n",
        "    style='darkgrid', \n",
        "    rc={\n",
        "        'figure.figsize':(6,4),\n",
        "        'figure.dpi': 100,\n",
        "        'figure.facecolor': 'w',\n",
        "        'legend.facecolor': 'w',\n",
        "        'text.color': TEXT_COLOR,\n",
        "        'font.family': 'Microsoft Sans Serif',\n",
        "        'axes.labelcolor': TEXT_COLOR,\n",
        "        'xtick.color': TEXT_COLOR,\n",
        "        'ytick.color': TEXT_COLOR\n",
        "    }\n",
        ")\n",
        "\n",
        "sns.set_palette(sns.color_palette(LINE_COLORS))"
      ],
      "metadata": {
        "id": "1fI95Y-bkCQ8"
      },
      "execution_count": 28,
      "outputs": []
    },
    {
      "cell_type": "code",
      "source": [
        "# What GPU am I using?\n",
        "torch.cuda.get_device_name(0)"
      ],
      "metadata": {
        "colab": {
          "base_uri": "https://localhost:8080/",
          "height": 35
        },
        "id": "OlQqE_Mskshu",
        "outputId": "a938c031-c234-4044-e9a5-d752009bddb5"
      },
      "execution_count": 5,
      "outputs": [
        {
          "output_type": "execute_result",
          "data": {
            "text/plain": [
              "'Tesla T4'"
            ],
            "application/vnd.google.colaboratory.intrinsic+json": {
              "type": "string"
            }
          },
          "metadata": {},
          "execution_count": 5
        }
      ]
    },
    {
      "cell_type": "code",
      "source": [
        "CUTOFF_THRES = 0.8"
      ],
      "metadata": {
        "id": "QWVHbPCHmGV5"
      },
      "execution_count": 6,
      "outputs": []
    },
    {
      "cell_type": "markdown",
      "source": [
        "# Copy processed data from gDrive"
      ],
      "metadata": {
        "id": "X_4tN-Q1d_pY"
      }
    },
    {
      "cell_type": "code",
      "source": [
        "# Source\n",
        "GDRIVE_FOLDER = \"drive/MyDrive/data-science/filler-sound-detector/data\"\n",
        "FEATURES_SRC_FOLDER = os.path.join(GDRIVE_FOLDER, \"features\")\n",
        "TARGETS_SRC_FOLDER = os.path.join(GDRIVE_FOLDER, \"targets\")\n",
        "\n",
        "# Destination\n",
        "FEATURES_PATH = \"data/features\"\n",
        "TARGETS_PATH = \"data/targets\""
      ],
      "metadata": {
        "id": "0Xx76k7recLl"
      },
      "execution_count": 7,
      "outputs": []
    },
    {
      "cell_type": "code",
      "source": [
        "feature_files = os.listdir(FEATURES_SRC_FOLDER)\n",
        "target_files = os.listdir(TARGETS_SRC_FOLDER)"
      ],
      "metadata": {
        "id": "KB3SMQ4LfMS8"
      },
      "execution_count": 8,
      "outputs": []
    },
    {
      "cell_type": "code",
      "source": [
        "os.makedirs(FEATURES_PATH, exist_ok=True)\n",
        "os.makedirs(TARGETS_PATH, exist_ok=True)"
      ],
      "metadata": {
        "id": "PNQmrQwjgTkG"
      },
      "execution_count": 9,
      "outputs": []
    },
    {
      "cell_type": "code",
      "source": [
        "%%time\n",
        "for features, targets in zip(feature_files, target_files):\n",
        "    features_src = os.path.join(FEATURES_SRC_FOLDER, features)\n",
        "    features_dst = os.path.join(FEATURES_PATH, features)\n",
        "\n",
        "    targets_src = os.path.join(TARGETS_SRC_FOLDER, targets)\n",
        "    targets_dst = os.path.join(TARGETS_PATH, targets)\n",
        "    shutil.copy(src=features_src, dst=features_dst)\n",
        "    shutil.copy(src=targets_src, dst=targets_dst)"
      ],
      "metadata": {
        "id": "-2gfsS6tfisy"
      },
      "execution_count": 10,
      "outputs": []
    },
    {
      "cell_type": "markdown",
      "source": [
        "---"
      ],
      "metadata": {
        "id": "gxGGVzSNhKQV"
      }
    },
    {
      "cell_type": "markdown",
      "source": [
        "# Read data"
      ],
      "metadata": {
        "id": "ZrpEnBg4h0qY"
      }
    },
    {
      "cell_type": "code",
      "source": [
        "def read_pickle(path):\n",
        "    with open(path, 'rb') as handle:\n",
        "        return pickle.load(handle)"
      ],
      "metadata": {
        "id": "C7OxNoCLhK1P"
      },
      "execution_count": 11,
      "outputs": []
    },
    {
      "cell_type": "code",
      "source": [
        "def convert_target_to_binary(y, threshold):\n",
        "    out = y.clone()\n",
        "    out[out >= threshold] = 1\n",
        "    out[out < threshold] = 0\n",
        "    return out"
      ],
      "metadata": {
        "id": "BClddQsujRts"
      },
      "execution_count": 12,
      "outputs": []
    },
    {
      "cell_type": "code",
      "source": [
        "%%time\n",
        "x = torch.tensor([])\n",
        "y = torch.tensor([])\n",
        "\n",
        "for speaker_filename in os.listdir(FEATURES_PATH):\n",
        "    current_x = read_pickle(f\"{FEATURES_PATH}/{speaker_filename}\")\n",
        "    current_y = read_pickle(f\"{TARGETS_PATH}/{speaker_filename}\")\n",
        "\n",
        "    x = torch.concat((x, current_x), dim=1)\n",
        "    y = torch.concat((y, current_y), dim=0)"
      ],
      "metadata": {
        "id": "6GgxMgyphZ_O"
      },
      "execution_count": 13,
      "outputs": []
    },
    {
      "cell_type": "markdown",
      "source": [
        "---"
      ],
      "metadata": {
        "id": "M5fA9qANiQul"
      }
    },
    {
      "cell_type": "markdown",
      "source": [
        "# Train model"
      ],
      "metadata": {
        "id": "gCmrngKxiRIP"
      }
    },
    {
      "cell_type": "markdown",
      "source": [
        "## Prepare data for training"
      ],
      "metadata": {
        "id": "3UTOuCSyjevz"
      }
    },
    {
      "cell_type": "code",
      "source": [
        "x_train, x_valid, y_train, y_valid = train_test_split(\n",
        "    x.transpose(0, 1),\n",
        "    convert_target_to_binary(y, threshold=CUTOFF_THRES), \n",
        "    test_size=0.33,\n",
        "    shuffle=False,\n",
        ")"
      ],
      "metadata": {
        "id": "ekFlvVCDiY1j"
      },
      "execution_count": 14,
      "outputs": []
    },
    {
      "cell_type": "code",
      "source": [
        "fig,ax = plt.subplots()\n",
        "sns.countplot(x=y_valid.numpy().astype(int), ax=ax)\n",
        "\n",
        "# show the count in %\n",
        "for p in ax.patches:\n",
        "    h_, w_, x_ = p.get_height(), p.get_width(), p.get_x()\n",
        "    xy_ = (x_ + w_ / 2., h_ / 2)\n",
        "    pct = 100 * h_ / y_valid.shape[0]\n",
        "    text = f'{pct:0.1f}%'\n",
        "    ax.annotate(s=text, xy=xy_, ha='center', va='bottom')\n",
        "    \n",
        "plt.title(\"Target distribution is very imbalanced\")\n",
        "plt.show()"
      ],
      "metadata": {
        "colab": {
          "base_uri": "https://localhost:8080/",
          "height": 389
        },
        "id": "cM0CxGY-jk12",
        "outputId": "c0abdd69-b11f-4c31-a9a1-430b71e96ba7"
      },
      "execution_count": 29,
      "outputs": [
        {
          "output_type": "display_data",
          "data": {
            "text/plain": [
              "<Figure size 600x400 with 1 Axes>"
            ],
            "image/png": "[encoded data removed]"
          },
          "metadata": {}
        }
      ]
    },
    {
      "cell_type": "markdown",
      "source": [
        "### Define evaluation functions"
      ],
      "metadata": {
        "id": "-2dSA8jdlVKO"
      }
    },
    {
      "cell_type": "code",
      "source": [
        "def evaluate(y_test, y_pred_proba, threshold):\n",
        "    print_metrics(y_test, y_pred_proba, threshold)\n",
        "    y_pred = convert_target_to_binary(y_pred_proba, threshold)\n",
        "\n",
        "    y_test = y_test.cpu().numpy()\n",
        "    y_pred_proba = y_pred_proba.cpu().numpy()\n",
        "    y_pred = y_pred.cpu().numpy()\n",
        "\n",
        "    fig, axs = plt.subplots(nrows=1, ncols=2, figsize=(10, 4))\n",
        "    plt.tight_layout(h_pad=1, w_pad=9)\n",
        "    plot_confusion_matrix(y_test, y_pred, ax=axs[0])\n",
        "    plot_precision_recall_curve(y_test, y_pred_proba, threshold, ax=axs[1])"
      ],
      "metadata": {
        "id": "PiYg3gKvlwu5"
      },
      "execution_count": 30,
      "outputs": []
    },
    {
      "cell_type": "code",
      "source": [
        "def print_metrics(y_test, y_pred_proba, threshold):\n",
        "    y_pred = convert_target_to_binary(y_pred_proba, threshold=threshold)\n",
        "\n",
        "    metrics = {\n",
        "        \"f1\": f1_score(y_test, y_pred),\n",
        "        \"precision\": precision_score(y_test, y_pred),\n",
        "        \"recall\": recall_score(y_test, y_pred),\n",
        "        \"avg_precision_score\": average_precision_score(y_test, y_pred_proba)\n",
        "    }\n",
        "\n",
        "    print(\", \".join([f\"{name}: {round(value, 3)}\" for name, value in metrics.items()]))"
      ],
      "metadata": {
        "id": "ErqZ-qwRlWLt"
      },
      "execution_count": 31,
      "outputs": []
    },
    {
      "cell_type": "code",
      "source": [
        "def plot_precision_recall_curve(y_test, y_pred_proba, threshold, ax):\n",
        "    \"\"\"Plot the curve with a marker pointing to the current cutoff threshold.\n",
        "    :param y_test: true target variable\n",
        "    :param y_pred_proba: prediction probabilities for the positive class (0.0 to 1.0)\n",
        "    :param threshold: cutoff point to determine the final prediction\n",
        "    :param ax: matplotlib.plt axis\n",
        "    :return: None\n",
        "    \"\"\"\n",
        "    PrecisionRecallDisplay.from_predictions(y_test, y_pred_proba, ax=ax)\n",
        "    ax.set_title(\"Precision-recall curve\")\n",
        "    y_pred = (y_pred_proba >= threshold).astype(float)\n",
        "    precision = precision_score(y_test, y_pred)\n",
        "    recall = recall_score(y_test, y_pred)\n",
        "    ax.plot(\n",
        "        recall,\n",
        "        precision,\n",
        "        marker=\"x\",\n",
        "        color=\"r\",\n",
        "        markersize=15,\n",
        "        label=\"chosen threshold\",\n",
        "    )\n",
        "    ax.legend()"
      ],
      "metadata": {
        "id": "sqwYWzo1lYwo"
      },
      "execution_count": 32,
      "outputs": []
    },
    {
      "cell_type": "code",
      "source": [
        "def plot_confusion_matrix(y_test, y_pred, ax):\n",
        "  \"\"\"\n",
        "  Plot a confusion matrix on axis.\n",
        "  :param y_test: true target variable\n",
        "  :param y_pred: predictions\n",
        "  :param ax: matplotlib.plt axis\n",
        "  :return: None\n",
        "  \"\"\"\n",
        "  ConfusionMatrixDisplay.from_predictions(y_test, y_pred, ax=ax, cmap=\"Blues\")\n",
        "  ax.grid(False)\n",
        "  ax.set_title(\"Confusion matrix\")"
      ],
      "metadata": {
        "id": "mXJeWyrOlZqm"
      },
      "execution_count": 33,
      "outputs": []
    },
    {
      "cell_type": "markdown",
      "source": [
        "## Train the baseline\n",
        "\n",
        "Train a `LightGBM` model on the obtained features to see if it can pick anything from them."
      ],
      "metadata": {
        "id": "h7aaJ4TUsWjE"
      }
    },
    {
      "cell_type": "code",
      "source": [
        "x_train_numpy  = x_train.numpy()\n",
        "x_valid_numpy = x_valid.numpy()\n",
        "y_train_numpy = y_train.numpy().astype(int)\n",
        "y_valid_numpy = y_valid.numpy().astype(int)"
      ],
      "metadata": {
        "id": "5-3v3-0GsYpq"
      },
      "execution_count": 34,
      "outputs": []
    },
    {
      "cell_type": "code",
      "source": [
        "labels, counts = np.unique(y_train_numpy.astype(int), return_counts=True)\n",
        "class_weights = {k: v for k, v in zip(np.flipud(labels), counts)}"
      ],
      "metadata": {
        "id": "SM2eaJNHVbl8"
      },
      "execution_count": 35,
      "outputs": []
    },
    {
      "cell_type": "markdown",
      "source": [
        "Start training with some reasonable default parameters."
      ],
      "metadata": {
        "id": "tDG4wW4Efuh8"
      }
    },
    {
      "cell_type": "code",
      "source": [
        "lgb_model = lgb.LGBMClassifier(\n",
        "    is_unbalance=True,\n",
        "    # scale_pos_weight=class_weights[1] / class_weights[0],\n",
        "    feature_fraction=0.7,\n",
        "    reg_alpha=0.7,\n",
        "    reg_lambda=0.7,\n",
        "    n_estimators=1000,\n",
        "    random_state=42,\n",
        ")"
      ],
      "metadata": {
        "id": "wZm6EMGfcSGW"
      },
      "execution_count": 39,
      "outputs": []
    },
    {
      "cell_type": "code",
      "source": [
        "lgb_model = lgb_model.fit(\n",
        "    X=x_train_numpy,\n",
        "    y=y_train_numpy,\n",
        "    eval_set=[(x_valid_numpy, y_valid_numpy), (x_train_numpy, y_train_numpy)],\n",
        "    eval_names=[\"validation set\", \"training set\"],\n",
        "    eval_metric=\"f1\",\n",
        "    callbacks=[lgb.early_stopping(10)],\n",
        ")"
      ],
      "metadata": {
        "colab": {
          "base_uri": "https://localhost:8080/"
        },
        "id": "_P0aK-0HcLyG",
        "outputId": "09f2f093-e9f7-4ffb-ca62-6dda6419d1ad"
      },
      "execution_count": 40,
      "outputs": [
        {
          "output_type": "stream",
          "name": "stdout",
          "text": [
            "[LightGBM] [Warning] feature_fraction is set=0.7, colsample_bytree=1.0 will be ignored. Current value: feature_fraction=0.7\n",
            "[LightGBM] [Warning] feature_fraction is set=0.7, colsample_bytree=1.0 will be ignored. Current value: feature_fraction=0.7\n",
            "[LightGBM] [Info] Number of positive: 2781, number of negative: 238676\n",
            "[LightGBM] [Warning] Auto-choosing col-wise multi-threading, the overhead of testing was 0.089342 seconds.\n",
            "You can set `force_col_wise=true` to remove the overhead.\n",
            "[LightGBM] [Info] Total Bins 10200\n",
            "[LightGBM] [Info] Number of data points in the train set: 241457, number of used features: 40\n",
            "[LightGBM] [Warning] feature_fraction is set=0.7, colsample_bytree=1.0 will be ignored. Current value: feature_fraction=0.7\n",
            "[LightGBM] [Info] [binary:BoostFromScore]: pavg=0.011518 -> initscore=-4.452296\n",
            "[LightGBM] [Info] Start training from score -4.452296\n",
            "Training until validation scores don't improve for 10 rounds\n",
            "Early stopping, best iteration is:\n",
            "[680]\ttraining set's binary_logloss: 0.0204394\tvalidation set's binary_logloss: 0.0725605\n"
          ]
        }
      ]
    },
    {
      "cell_type": "code",
      "source": [
        "lgb.plot_metric(lgb_model);"
      ],
      "metadata": {
        "colab": {
          "base_uri": "https://localhost:8080/",
          "height": 413
        },
        "id": "f4KUe337bNBf",
        "outputId": "9ab0245c-a860-40a0-a187-29264b8f9f3e"
      },
      "execution_count": 41,
      "outputs": [
        {
          "output_type": "display_data",
          "data": {
            "text/plain": [
              "<Figure size 600x400 with 1 Axes>"
            ],
            "image/png": "[encoded data removed]"
          },
          "metadata": {}
        }
      ]
    },
    {
      "cell_type": "code",
      "source": [
        "y_pred_proba = lgb_model.predict_proba(x_valid_numpy)[:, 1]"
      ],
      "metadata": {
        "colab": {
          "base_uri": "https://localhost:8080/"
        },
        "id": "jCvaEsMtYKeu",
        "outputId": "5cc98f39-1744-4618-a1b0-b0e195a155a2"
      },
      "execution_count": 42,
      "outputs": [
        {
          "output_type": "stream",
          "name": "stdout",
          "text": [
            "[LightGBM] [Warning] feature_fraction is set=0.7, colsample_bytree=1.0 will be ignored. Current value: feature_fraction=0.7\n"
          ]
        }
      ]
    },
    {
      "cell_type": "code",
      "source": [
        "evaluate(y_valid, torch.Tensor(y_pred_proba), threshold=CUTOFF_THRES)"
      ],
      "metadata": {
        "colab": {
          "base_uri": "https://localhost:8080/",
          "height": 457
        },
        "id": "jzQZXjVtjMMu",
        "outputId": "565f57d1-3171-42e5-87af-57d91534b3d2"
      },
      "execution_count": 43,
      "outputs": [
        {
          "output_type": "stream",
          "name": "stdout",
          "text": [
            "f1: 0.114, precision: 0.308, recall: 0.07, avg_precision_score: 0.098\n"
          ]
        },
        {
          "output_type": "display_data",
          "data": {
            "text/plain": [
              "<Figure size 1000x400 with 3 Axes>"
            ],
            "image/png": "[encoded data removed]"
          },
          "metadata": {}
        }
      ]
    },
    {
      "cell_type": "markdown",
      "source": [
        "---"
      ],
      "metadata": {
        "id": "JVcOACPKdYc9"
      }
    },
    {
      "cell_type": "markdown",
      "source": [
        "Perform grid-search"
      ],
      "metadata": {
        "id": "nEgm-y-4gKGB"
      }
    },
    {
      "cell_type": "code",
      "source": [
        "# lgb_model = lgb.LGBMClassifier(\n",
        "#     class_weight=class_weights,\n",
        "#     # is_unbalance=True,\n",
        "#     # scale_pos_weight=scale_pos_weight,\n",
        "#     random_state=42,\n",
        "# )"
      ],
      "metadata": {
        "id": "K8FOd8cSRD-o"
      },
      "execution_count": null,
      "outputs": []
    },
    {
      "cell_type": "code",
      "source": [
        "# param_grid = {\n",
        "#     \"max_depth\" : [-1, 4, 8],  # How deep a tree can go. More -> More complexity\n",
        "#     \"num_leaves\" : [2, 8, 31],  # Each new tree will have max this amount of leaf nodes. More -> More complexity\n",
        "#     \"feature_fraction\": [0.5, 0.8],  # Subset of features to select on each new iteration\n",
        "#     \"reg_alpha\": [0, 0.3, 0.7],\n",
        "#     \"reg_lambda\": [0, 0.3, 0.7],\n",
        "#     \"learning_rate\": [0.03, 0.1, 0.9],\n",
        "#     \"num_estimators\": [500],\n",
        "# }"
      ],
      "metadata": {
        "id": "z40pYUTNRMam"
      },
      "execution_count": null,
      "outputs": []
    },
    {
      "cell_type": "code",
      "source": [
        "# grid_model = GridSearchCV(lgb_model, param_grid, scoring=\"f1\", cv=3, verbose=-1)"
      ],
      "metadata": {
        "id": "9_7fVhPjZhLn"
      },
      "execution_count": null,
      "outputs": []
    },
    {
      "cell_type": "code",
      "source": [
        "# grid_model.fit(x_train_numpy, y_train_numpy, verbose=-1)"
      ],
      "metadata": {
        "id": "sRBtpTtpZXO-"
      },
      "execution_count": null,
      "outputs": []
    },
    {
      "cell_type": "markdown",
      "source": [
        "---"
      ],
      "metadata": {
        "id": "L_Mxht0qhcLd"
      }
    },
    {
      "cell_type": "markdown",
      "source": [
        "## Train the good model"
      ],
      "metadata": {
        "id": "-9rM9lmZETYL"
      }
    },
    {
      "cell_type": "markdown",
      "source": [
        "### Define the architecture"
      ],
      "metadata": {
        "id": "fL73-YSQkSov"
      }
    },
    {
      "cell_type": "code",
      "source": [
        "logger = logging.getLogger(__name__)\n",
        "logger.addHandler(logging.StreamHandler())\n",
        "logger.setLevel(logging.DEBUG)"
      ],
      "metadata": {
        "id": "IfvIekBkb-fp"
      },
      "execution_count": null,
      "outputs": []
    },
    {
      "cell_type": "code",
      "source": [
        "class MultiLayerPerceptron(torch.nn.Module):\n",
        "    def __init__(self, n_features, n_hidden, n_classes, batch_size=64):\n",
        "        super().__init__()\n",
        "        self.batch_size = batch_size\n",
        "        self.loss_fn = torch.nn.CrossEntropyLoss()\n",
        "        self.optimizer = None\n",
        "        self.logger = None\n",
        "        self.in_layer = torch.nn.Linear(n_features, n_hidden)\n",
        "        self.mid_layer = torch.nn.Linear(n_hidden, n_hidden)\n",
        "        self.out_layer = torch.nn.Linear(n_hidden, n_classes)\n",
        "        self.relu = torch.nn.ReLU()\n",
        "        self.softmax = torch.nn.Softmax()\n",
        "\n",
        "    def forward(self, x):\n",
        "        out = self.in_layer(x)\n",
        "        out = self.relu(out)\n",
        "        out = self.mid_layer(out)\n",
        "        out = self.relu(out)\n",
        "        out = self.out_layer(out)\n",
        "        return self.softmax(out)\n",
        "\n",
        "    # def set_optimizer(self, learning_rate=1e-4):\n",
        "    #     self.optimizer = torch.optim.Adam(self.parameters(), lr=learning_rate)\n",
        "\n",
        "    # def fit(self, x, y, n_epochs):\n",
        "    #     self.set_optimizer() if not self.optimizer\n",
        "    #     dl = self.build_dataloader(x, y)\n",
        "    #     self.train()\n",
        "    #     for epoch in range(n_epochs):\n",
        "    #         for batch in dl:\n",
        "    #             self.training_step(batch)\n",
        "\n",
        "    # def training_step(self, batch):\n",
        "    #     x, y_true = batch\n",
        "    #     x = x.cuda(0)\n",
        "    #     y_pred = self(x)\n",
        "    #     loss = self.loss_fn(y_pred, y_true)\n",
        "    #     self.log(\"train loss\", loss.item())\n",
        "    #     loss.backward()\n",
        "    #     self.optimizer.step()\n",
        "    #     self.optimizer.zero_grad()\n",
        "\n",
        "    # def validation_step(self, batch):\n",
        "    #     self.eval()\n",
        "    #     with torch.no_grad():\n",
        "    #         x, y_true = batch\n",
        "    #         x = x.cuda(0)\n",
        "    #         y_pred = self(x)\n",
        "    #         loss = self.loss_fn(y_pred, y_true)\n",
        "    #         self.log(f\"valid loss: {loss.item()}\")\n",
        "\n",
        "    # def build_dataloader(self, x, y=None):\n",
        "    #     pass\n",
        "\n",
        "    # def log(self, msg, level=\"debug\"):\n",
        "    #     if self.logger is None: \n",
        "    #         self.set_logger()\n",
        "    #     logger.log(level, msg)\n",
        "\n",
        "    # def set_logger(self):\n",
        "    #     logging.basicConfig(\n",
        "    #         format='[%(asctime)s]–[%(levelname)s]–[%(message)s]',\n",
        "    #         datefmt='%Y-%m-%d %H:%M:%S',\n",
        "    #         level=logging.INFO\n",
        "    #     )\n",
        "    #     self.logger = logging.getLogger(__name__)\n",
        "    #     self.logger.addHandler(logging.StreamHandler())\n",
        "    #     self.logger.setLevel(logging.DEBUG)"
      ],
      "metadata": {
        "id": "4xAyTOhnkc3j"
      },
      "execution_count": null,
      "outputs": []
    },
    {
      "cell_type": "code",
      "source": [
        "N_FEATURES = x_train.shape[1]\n",
        "N_HIDDEN = 128"
      ],
      "metadata": {
        "id": "VvAfcEpGTfih"
      },
      "execution_count": null,
      "outputs": []
    },
    {
      "cell_type": "code",
      "source": [
        "nn_model = MultiLayerPerceptron(\n",
        "    n_features=N_FEATURES, \n",
        "    n_hidden=N_HIDDEN, \n",
        "    n_classes=2,\n",
        ")"
      ],
      "metadata": {
        "id": "8S9yO47Ckc0P"
      },
      "execution_count": null,
      "outputs": []
    },
    {
      "cell_type": "markdown",
      "source": [
        "---"
      ],
      "metadata": {
        "id": "lra1UgYZVBv8"
      }
    },
    {
      "cell_type": "markdown",
      "source": [
        "### Train"
      ],
      "metadata": {
        "id": "EnU26p9ulTXM"
      }
    },
    {
      "cell_type": "markdown",
      "source": [
        "Train using [this guide](https://github.com/christianversloot/machine-learning-articles/blob/main/creating-a-multilayer-perceptron-with-pytorch-and-lightning.md)."
      ],
      "metadata": {
        "id": "U0lt6PKNWD9A"
      }
    },
    {
      "cell_type": "code",
      "source": [
        "# continue here"
      ],
      "metadata": {
        "id": "i778sCpClUue"
      },
      "execution_count": null,
      "outputs": []
    },
    {
      "cell_type": "markdown",
      "source": [
        "---"
      ],
      "metadata": {
        "id": "acrVnaxKU_qh"
      }
    }
  ]
}