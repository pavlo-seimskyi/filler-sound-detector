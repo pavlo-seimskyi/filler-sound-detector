{
 "cells": [
  {
   "cell_type": "code",
   "execution_count": 1,
   "id": "c641792e-7bff-4127-9f9e-81a022cba587",
   "metadata": {},
   "outputs": [],
   "source": [
    "import os\n",
    "os.chdir(\"../\")"
   ]
  },
  {
   "cell_type": "code",
   "execution_count": 2,
   "id": "4722665c-55f7-4465-a99a-60bea05ea9f7",
   "metadata": {},
   "outputs": [],
   "source": [
    "import seaborn as sns\n",
    "import pandas as pd\n",
    "import numpy as np\n",
    "import torch\n",
    "import matplotlib.pyplot as plt\n",
    "import torchaudio.functional as F\n",
    "\n",
    "from sklearn.metrics import (\n",
    "    ConfusionMatrixDisplay,\n",
    "    PrecisionRecallDisplay,\n",
    "    RocCurveDisplay,\n",
    "    f1_score,\n",
    "    precision_score,\n",
    "    recall_score,\n",
    "    average_precision_score,\n",
    ")"
   ]
  },
  {
   "cell_type": "code",
   "execution_count": 3,
   "id": "2ce6aeb7-8b66-401a-833f-f23070e45756",
   "metadata": {},
   "outputs": [],
   "source": [
    "from src.preprocess.feature_extractor import FeatureExtractor\n",
    "from src.preprocess.target_processor import TargetProcessor\n",
    "from clients import gdrive\n",
    "from src.utils import save_pickle\n",
    "import constants"
   ]
  },
  {
   "cell_type": "code",
   "execution_count": 4,
   "id": "92bc2a8f-d4bc-4e68-b59a-7f9baaaeeb23",
   "metadata": {},
   "outputs": [],
   "source": [
    "TEXT_COLOR = '#313131'\n",
    "# Plotly colors\n",
    "LINE_COLORS = ['#636EFA', '#EF553B', '#00CC96', '#AB63FA', '#FFA15A', '#19D3F3', '#FF6692', '#B6E880', '#FF97FF', '#FECB52']\n",
    "\n",
    "sns.set(\n",
    "    style='darkgrid', \n",
    "    rc={'figure.figsize':(6,4),\n",
    "        'figure.dpi': 100,\n",
    "        'figure.facecolor': 'w', \n",
    "        'legend.facecolor': 'w',\n",
    "        'text.color': TEXT_COLOR,\n",
    "        'font.family': 'Microsoft Sans Serif',\n",
    "        'axes.labelcolor': TEXT_COLOR,\n",
    "        'xtick.color': TEXT_COLOR,\n",
    "        'ytick.color': TEXT_COLOR}\n",
    ")\n",
    "\n",
    "sns.set_palette(sns.color_palette(LINE_COLORS))"
   ]
  },
  {
   "cell_type": "markdown",
   "id": "38b00a47-5354-44ba-b9b6-375d961c9c49",
   "metadata": {},
   "source": [
    "---"
   ]
  },
  {
   "cell_type": "markdown",
   "id": "5817e6b5-d9b6-4e2b-8fc8-56229a4b211f",
   "metadata": {
    "tags": []
   },
   "source": [
    "# Build dataset\n",
    "\n",
    "Upload processed data to gDrive"
   ]
  },
  {
   "cell_type": "code",
   "execution_count": 5,
   "id": "4e5fb5a0-c565-47b3-94a4-d822367d20ac",
   "metadata": {},
   "outputs": [],
   "source": [
    "TRAIN_SPEAKERS = [\n",
    "    \"1_ines\", \n",
    "    \"2_helena\",\n",
    "    \"3_ignasi\",\n",
    "    \"4_sonia\",\n",
    "    \"5_david\",\n",
    "    \"6_gloria\",\n",
    "    \"8_diana\",\n",
    "    \"9_daniel\",\n",
    "    \"10_oriol\", \n",
    "    \"13_tomy\",\n",
    "    \"14_maria\", \n",
    "    \"15_arancha\",\n",
    "    \"16_tropicfeel\",\n",
    "    \"17_robert\",\n",
    "    # \"18_lourdes\", \n",
    "    # \"19_pablo\",\n",
    "    \"20_anna\",\n",
    "    \"21_eirene\",\n",
    "    \"22_patricia\",\n",
    "    \"23_carlos\",\n",
    "    \"25_daniel\",\n",
    "    \"26_angel\",\n",
    "    \"27_angela\",\n",
    "    \"28_joachim\",\n",
    "    \"29_alfredo\",\n",
    "]"
   ]
  },
  {
   "cell_type": "code",
   "execution_count": 6,
   "id": "faf24b1a-b0a1-401b-9ec5-4c3d4d61cdfa",
   "metadata": {},
   "outputs": [],
   "source": [
    "VALID_SPEAKERS = [\n",
    "    \"30_segolene\",\n",
    "    \"31_andrew\",\n",
    "    \"32_alexia\",\n",
    "    \"33_bernat\",\n",
    "    \"34_jon\",\n",
    "    \"35_juanjo\",\n",
    "    \"36_clara\",\n",
    "    \"37_sandra\",\n",
    "]"
   ]
  },
  {
   "cell_type": "code",
   "execution_count": 7,
   "id": "fa1e0b52-c80e-4823-a7fd-10404756bd82",
   "metadata": {},
   "outputs": [],
   "source": [
    "ALL_SPEAKERS = TRAIN_SPEAKERS + VALID_SPEAKERS"
   ]
  },
  {
   "cell_type": "code",
   "execution_count": 8,
   "id": "80d236f2-aa2e-4aa2-90d2-7c33564f3ba8",
   "metadata": {},
   "outputs": [],
   "source": [
    "feature_extractor = FeatureExtractor()\n",
    "target_processor = TargetProcessor()"
   ]
  },
  {
   "cell_type": "code",
   "execution_count": 10,
   "id": "58dc6543-faa7-4fb7-b688-ac00afeed3fb",
   "metadata": {},
   "outputs": [],
   "source": [
    "%%time\n",
    "os.makedirs(f\"data/processed_data/features/\", exist_ok=True)\n",
    "os.makedirs(f\"data/processed_data/targets/\", exist_ok=True)\n",
    "\n",
    "x_valid = torch.Tensor([])\n",
    "y_valid = torch.Tensor([])\n",
    "\n",
    "for speaker in ALL_SPEAKERS:\n",
    "    # Extract features and targets\n",
    "    audio_path = f\"data/audio/{speaker}.wav\"\n",
    "    annotation_path = f\"data/labels/parsed_annotations/{speaker}.csv\"\n",
    "    current_x = feature_extractor.process_file(audio_path)\n",
    "    current_y = target_processor.process(annotation_path, size=current_x.shape[1])\n",
    "    \n",
    "    # Save as pickle files\n",
    "    features_pickle_path = f\"data/processed_data/features/{speaker}.pickle\"\n",
    "    targets_pickle_path = f\"data/processed_data/targets/{speaker}.pickle\"\n",
    "    save_pickle(current_x, features_pickle_path)\n",
    "    save_pickle(current_y, targets_pickle_path)\n",
    "    \n",
    "    # Upload pickles to gDrive\n",
    "    features_drive_folder_id = \"12KIT85SR25p33TEVa3jJU52DItvV7QqP\"\n",
    "    targets_drive_folder_id = \"1aY77GI-o8GbPoi1MO0RuPgl2JMgXzBx2\"\n",
    "    gdrive.upload_file(features_pickle_path, features_drive_folder_id)\n",
    "    gdrive.upload_file(targets_pickle_path, targets_drive_folder_id)"
   ]
  },
  {
   "cell_type": "markdown",
   "id": "2aecdf7b-f9f1-4675-8e1b-d4b3cef3af6d",
   "metadata": {},
   "source": [
    "---"
   ]
  }
 ],
 "metadata": {
  "kernelspec": {
   "display_name": "filler-sound-detector",
   "language": "python",
   "name": "filler-sound-detector"
  },
  "language_info": {
   "codemirror_mode": {
    "name": "ipython",
    "version": 3
   },
   "file_extension": ".py",
   "mimetype": "text/x-python",
   "name": "python",
   "nbconvert_exporter": "python",
   "pygments_lexer": "ipython3",
   "version": "3.9.5"
  }
 },
 "nbformat": 4,
 "nbformat_minor": 5
}
