{
  "nbformat": 4,
  "nbformat_minor": 0,
  "metadata": {
    "colab": {
      "provenance": [],
      "authorship_tag": "ABX9TyNaTVpnmDgXLOG3wsobnxXg",
      "include_colab_link": true
    },
    "kernelspec": {
      "name": "python3",
      "display_name": "Python 3"
    },
    "language_info": {
      "name": "python"
    },
    "accelerator": "GPU",
    "gpuClass": "standard"
  },
  "cells": [
    {
      "cell_type": "markdown",
      "metadata": {
        "id": "view-in-github",
        "colab_type": "text"
      },
      "source": [
        "<a href=\"https://colab.research.google.com/github/pavlo-seimskyi/filler-sound-detector/blob/train-first-model/3-train-first-model.ipynb\" target=\"_parent\"><img src=\"https://colab.research.google.com/assets/colab-badge.svg\" alt=\"Open In Colab\"/></a>"
      ]
    },
    {
      "cell_type": "code",
      "execution_count": null,
      "metadata": {
        "id": "VMr6J8D7d1nn"
      },
      "outputs": [],
      "source": [
        "%%capture\n",
        "!pip install torch -U\n",
        "!pip install torchaudio -U\n",
        "!pip3 install pickle5"
      ]
    },
    {
      "cell_type": "code",
      "source": [
        "import torchaudio\n",
        "import torch\n",
        "import os\n",
        "import shutil\n",
        "import pickle5 as pickle\n",
        "from sklearn.model_selection import train_test_split\n",
        "import torchaudio.functional as F"
      ],
      "metadata": {
        "id": "TogJg2o_d-xS"
      },
      "execution_count": null,
      "outputs": []
    },
    {
      "cell_type": "code",
      "source": [
        "import matplotlib.pyplot as plt\n",
        "import seaborn as sns"
      ],
      "metadata": {
        "id": "x9xuDvtEi3WX"
      },
      "execution_count": null,
      "outputs": []
    },
    {
      "cell_type": "code",
      "source": [
        "from sklearn.metrics import (\n",
        "    ConfusionMatrixDisplay,\n",
        "    PrecisionRecallDisplay,\n",
        "    f1_score,\n",
        "    precision_score,\n",
        "    recall_score,\n",
        "    average_precision_score,\n",
        ")"
      ],
      "metadata": {
        "id": "vaTxNFxpmKpL"
      },
      "execution_count": null,
      "outputs": []
    },
    {
      "cell_type": "code",
      "source": [
        "import plotly.express as px"
      ],
      "metadata": {
        "id": "5y4PJniIi6er"
      },
      "execution_count": null,
      "outputs": []
    },
    {
      "cell_type": "code",
      "source": [
        "from google.colab import drive\n",
        "drive.mount('/content/drive')"
      ],
      "metadata": {
        "colab": {
          "base_uri": "https://localhost:8080/"
        },
        "id": "AYIsdj_beN1K",
        "outputId": "37ed0d3d-2ddd-410b-9605-48b4cf4953c7"
      },
      "execution_count": null,
      "outputs": [
        {
          "output_type": "stream",
          "name": "stdout",
          "text": [
            "Mounted at /content/drive\n"
          ]
        }
      ]
    },
    {
      "cell_type": "code",
      "source": [
        "TEXT_COLOR = '#313131'\n",
        "# Plotly colors\n",
        "LINE_COLORS = ['#636EFA', '#EF553B', '#00CC96', '#AB63FA', '#FFA15A', '#19D3F3', '#FF6692', '#B6E880', '#FF97FF', '#FECB52']\n",
        "\n",
        "sns.set(\n",
        "    style='darkgrid', \n",
        "    rc={'figure.figsize':(6,4),\n",
        "        'figure.dpi': 100,\n",
        "        'figure.facecolor': 'w', \n",
        "        'legend.facecolor': 'w',\n",
        "        'text.color': TEXT_COLOR,\n",
        "        'font.family': 'Microsoft Sans Serif',\n",
        "        'axes.labelcolor': TEXT_COLOR,\n",
        "        'xtick.color': TEXT_COLOR,\n",
        "        'ytick.color': TEXT_COLOR}\n",
        ")\n",
        "\n",
        "sns.set_palette(sns.color_palette(LINE_COLORS))"
      ],
      "metadata": {
        "id": "1fI95Y-bkCQ8"
      },
      "execution_count": null,
      "outputs": []
    },
    {
      "cell_type": "code",
      "source": [
        "# What GPU am I using?\n",
        "torch.cuda.get_device_name(0)"
      ],
      "metadata": {
        "colab": {
          "base_uri": "https://localhost:8080/",
          "height": 35
        },
        "id": "OlQqE_Mskshu",
        "outputId": "488be2ce-9034-4ac0-a400-e675f98cf3dd"
      },
      "execution_count": null,
      "outputs": [
        {
          "output_type": "execute_result",
          "data": {
            "text/plain": [
              "'Tesla T4'"
            ],
            "application/vnd.google.colaboratory.intrinsic+json": {
              "type": "string"
            }
          },
          "metadata": {},
          "execution_count": 8
        }
      ]
    },
    {
      "cell_type": "code",
      "source": [
        "CUTOFF_THRES = 0.8"
      ],
      "metadata": {
        "id": "QWVHbPCHmGV5"
      },
      "execution_count": null,
      "outputs": []
    },
    {
      "cell_type": "markdown",
      "source": [
        "# Copy processed data from gDrive"
      ],
      "metadata": {
        "id": "X_4tN-Q1d_pY"
      }
    },
    {
      "cell_type": "code",
      "source": [
        "# Source\n",
        "GDRIVE_FOLDER = \"drive/MyDrive/data-science/filler-sound-detector/data\"\n",
        "FEATURES_SRC_FOLDER = os.path.join(GDRIVE_FOLDER, \"features\")\n",
        "TARGETS_SRC_FOLDER = os.path.join(GDRIVE_FOLDER, \"targets\")\n",
        "\n",
        "# Destination\n",
        "FEATURES_PATH = \"data/features\"\n",
        "TARGETS_PATH = \"data/targets\""
      ],
      "metadata": {
        "id": "0Xx76k7recLl"
      },
      "execution_count": null,
      "outputs": []
    },
    {
      "cell_type": "code",
      "source": [
        "feature_files = os.listdir(FEATURES_SRC_FOLDER)\n",
        "target_files = os.listdir(TARGETS_SRC_FOLDER)"
      ],
      "metadata": {
        "id": "KB3SMQ4LfMS8"
      },
      "execution_count": null,
      "outputs": []
    },
    {
      "cell_type": "code",
      "source": [
        "os.makedirs(FEATURES_PATH, exist_ok=True)\n",
        "os.makedirs(TARGETS_PATH, exist_ok=True)"
      ],
      "metadata": {
        "id": "PNQmrQwjgTkG"
      },
      "execution_count": null,
      "outputs": []
    },
    {
      "cell_type": "code",
      "source": [
        "for features, targets in zip(feature_files, target_files):\n",
        "  features_src = os.path.join(FEATURES_SRC_FOLDER, features)\n",
        "  features_dst = os.path.join(FEATURES_PATH, features)\n",
        "\n",
        "  targets_src = os.path.join(TARGETS_SRC_FOLDER, targets)\n",
        "  targets_dst = os.path.join(TARGETS_PATH, targets)\n",
        "  shutil.copy(src=features_src, dst=features_dst)\n",
        "  shutil.copy(src=targets_src, dst=targets_dst)"
      ],
      "metadata": {
        "id": "-2gfsS6tfisy"
      },
      "execution_count": null,
      "outputs": []
    },
    {
      "cell_type": "markdown",
      "source": [
        "---"
      ],
      "metadata": {
        "id": "gxGGVzSNhKQV"
      }
    },
    {
      "cell_type": "markdown",
      "source": [
        "# Read data"
      ],
      "metadata": {
        "id": "ZrpEnBg4h0qY"
      }
    },
    {
      "cell_type": "code",
      "source": [
        "def read_pickle(path):\n",
        "  with open(path, 'rb') as handle:\n",
        "      return pickle.load(handle)"
      ],
      "metadata": {
        "id": "C7OxNoCLhK1P"
      },
      "execution_count": null,
      "outputs": []
    },
    {
      "cell_type": "code",
      "source": [
        "def convert_target_to_binary(y, threshold):\n",
        "  out = y.clone()\n",
        "  out[out >= threshold] = 1\n",
        "  out[out < threshold] = 0\n",
        "  return out"
      ],
      "metadata": {
        "id": "BClddQsujRts"
      },
      "execution_count": null,
      "outputs": []
    },
    {
      "cell_type": "code",
      "source": [
        "x = torch.tensor([])\n",
        "y = torch.tensor([])\n",
        "\n",
        "for speaker_filename in os.listdir(FEATURES_PATH):\n",
        "  current_x = read_pickle(f\"{FEATURES_PATH}/{speaker_filename}\")\n",
        "  current_y = read_pickle(f\"{TARGETS_PATH}/{speaker_filename}\")\n",
        "\n",
        "  x = torch.concat((x, current_x), dim=1)\n",
        "  y = torch.concat((y, current_y), dim=0)"
      ],
      "metadata": {
        "id": "6GgxMgyphZ_O"
      },
      "execution_count": null,
      "outputs": []
    },
    {
      "cell_type": "markdown",
      "source": [
        "---"
      ],
      "metadata": {
        "id": "M5fA9qANiQul"
      }
    },
    {
      "cell_type": "markdown",
      "source": [
        "# Train model"
      ],
      "metadata": {
        "id": "gCmrngKxiRIP"
      }
    },
    {
      "cell_type": "markdown",
      "source": [
        "### Prepare data for training"
      ],
      "metadata": {
        "id": "3UTOuCSyjevz"
      }
    },
    {
      "cell_type": "code",
      "source": [
        "x_train, x_valid, y_train, y_valid = train_test_split(\n",
        "  x.transpose(0, 1),\n",
        "  convert_target_to_binary(y, threshold=CUTOFF_THRES), \n",
        "  test_size=0.33, \n",
        "  # random_state=42,\n",
        "  shuffle=False,\n",
        ")"
      ],
      "metadata": {
        "id": "ekFlvVCDiY1j"
      },
      "execution_count": null,
      "outputs": []
    },
    {
      "cell_type": "code",
      "source": [
        "fig,ax = plt.subplots()\n",
        "sns.countplot(x=y_valid.numpy().astype(int), ax=ax)\n",
        "\n",
        "# show the mean\n",
        "for p in ax.patches:\n",
        "  h_, w_, x_ = p.get_height(), p.get_width(), p.get_x()\n",
        "  xy_ = (x_ + w_ / 2., h_ / 2)\n",
        "  pct = 100 * h_ / y_valid.shape[0]\n",
        "  text = f'{pct:0.1f}%'\n",
        "  ax.annotate(s=text, xy=xy_, ha='center', va='bottom')\n",
        "    \n",
        "plt.title(\"Target distribution is very imbalanced\")\n",
        "plt.show()"
      ],
      "metadata": {
        "colab": {
          "base_uri": "https://localhost:8080/",
          "height": 389
        },
        "id": "cM0CxGY-jk12",
        "outputId": "3474d053-590a-4c2f-993e-c24e124967e2"
      },
      "execution_count": null,
      "outputs": [
        {
          "output_type": "display_data",
          "data": {
            "text/plain": [
              "<Figure size 600x400 with 1 Axes>"
            ],
            "image/png": "[encoded data removed]"
          },
          "metadata": {}
        }
      ]
    },
    {
      "cell_type": "markdown",
      "source": [
        "---"
      ],
      "metadata": {
        "id": "EltPiCrjVF3C"
      }
    },
    {
      "cell_type": "markdown",
      "source": [
        "### Define evaluation functions"
      ],
      "metadata": {
        "id": "-2dSA8jdlVKO"
      }
    },
    {
      "cell_type": "code",
      "source": [
        "def evaluate(y_test, y_pred_proba):\n",
        "  print_metrics(y_test, y_pred_proba)\n",
        "  y_pred = convert_target_to_binary(y_pred_proba, threshold=CUTOFF_THRES)\n",
        "\n",
        "  y_test = y_test.cpu().numpy()\n",
        "  y_pred_proba = y_pred_proba.cpu().numpy()\n",
        "  y_pred = y_pred.cpu().numpy()\n",
        "\n",
        "  fig, axs = plt.subplots(nrows=1, ncols=2, figsize=(10, 4))\n",
        "  plt.tight_layout(h_pad=1, w_pad=9)\n",
        "  plot_confusion_matrix(y_test, y_pred, ax=axs[0])\n",
        "  plot_precision_recall_curve(y_test, y_pred_proba, threshold=0.5, ax=axs[1])"
      ],
      "metadata": {
        "id": "PiYg3gKvlwu5"
      },
      "execution_count": null,
      "outputs": []
    },
    {
      "cell_type": "code",
      "source": [
        "def print_metrics(y_test, y_pred_proba, threshold=0.5):\n",
        "  y_pred = convert_target_to_binary(y_pred_proba, threshold=0.5)\n",
        "  \n",
        "  metrics = {\n",
        "      \"f1\": f1_score(y_test, y_pred),\n",
        "      \"precision\": precision_score(y_test, y_pred),\n",
        "      \"recall\": recall_score(y_test, y_pred),\n",
        "      \"avg_precision_score\": average_precision_score(y_test, y_pred_proba)\n",
        "  }\n",
        "  \n",
        "  print(\", \".join([f\"{name}: {round(value, 3)}\" for name, value in metrics.items()]))"
      ],
      "metadata": {
        "id": "ErqZ-qwRlWLt"
      },
      "execution_count": null,
      "outputs": []
    },
    {
      "cell_type": "code",
      "source": [
        "def plot_precision_recall_curve(y_test, y_pred_proba, threshold, ax):\n",
        "  \"\"\"Plot the curve with a marker pointing to the current cutoff threshold.\n",
        "  :param y_test: true target variable\n",
        "  :param y_pred_proba: prediction probabilities for the positive class (0.0 to 1.0)\n",
        "  :param threshold: cutoff point to determine the final prediction\n",
        "  :param ax: matplotlib.plt axis\n",
        "  :return: None\n",
        "  \"\"\"\n",
        "  PrecisionRecallDisplay.from_predictions(y_test, y_pred_proba, ax=ax)\n",
        "  ax.set_title(\"Precision-recall curve\")\n",
        "  y_pred = (y_pred_proba >= threshold).astype(float)\n",
        "  precision = precision_score(y_test, y_pred)\n",
        "  recall = recall_score(y_test, y_pred)\n",
        "  ax.plot(\n",
        "      recall,\n",
        "      precision,\n",
        "      marker=\"x\",\n",
        "      color=\"r\",\n",
        "      markersize=15,\n",
        "      label=\"chosen threshold\",\n",
        "  )\n",
        "  ax.legend()"
      ],
      "metadata": {
        "id": "sqwYWzo1lYwo"
      },
      "execution_count": null,
      "outputs": []
    },
    {
      "cell_type": "code",
      "source": [
        "def plot_confusion_matrix(y_test, y_pred, ax):\n",
        "  \"\"\"\n",
        "  Plot a confusion matrix on axis.\n",
        "  :param y_test: true target variable\n",
        "  :param y_pred: predictions\n",
        "  :param ax: matplotlib.plt axis\n",
        "  :return: None\n",
        "  \"\"\"\n",
        "  ConfusionMatrixDisplay.from_predictions(y_test, y_pred, ax=ax, cmap=\"Blues\")\n",
        "  ax.grid(False)\n",
        "  ax.set_title(\"Confusion matrix\")"
      ],
      "metadata": {
        "id": "mXJeWyrOlZqm"
      },
      "execution_count": null,
      "outputs": []
    },
    {
      "cell_type": "markdown",
      "source": [
        "### Train the baseline\n",
        "\n",
        "I will train a `RandomForest` model on the obtained features to see if it can pick anything from them."
      ],
      "metadata": {
        "id": "h7aaJ4TUsWjE"
      }
    },
    {
      "cell_type": "code",
      "source": [
        "from sklearn.ensemble import RandomForestClassifier"
      ],
      "metadata": {
        "id": "B3ogX2EyutMD"
      },
      "execution_count": null,
      "outputs": []
    },
    {
      "cell_type": "code",
      "source": [
        "x_train_numpy  = x_train.numpy()\n",
        "x_valid_numpy = x_valid.numpy()\n",
        "y_train_numpy = y_train.numpy()\n",
        "y_valid_numpy = y_valid.numpy()"
      ],
      "metadata": {
        "id": "5-3v3-0GsYpq"
      },
      "execution_count": null,
      "outputs": []
    },
    {
      "cell_type": "code",
      "source": [
        "rf_model = RandomForestClassifier(\n",
        "    n_estimators=200,\n",
        "    max_features=0.5,\n",
        ")"
      ],
      "metadata": {
        "id": "KJy1JwbUsYlY"
      },
      "execution_count": null,
      "outputs": []
    },
    {
      "cell_type": "code",
      "source": [
        "rf_model = rf_model.fit(x_train_numpy, y_train_numpy)  # x_train_numpy[:100, :], y_train_numpy[:100]"
      ],
      "metadata": {
        "id": "re62sFUEsfTf"
      },
      "execution_count": null,
      "outputs": []
    },
    {
      "cell_type": "code",
      "source": [
        "y_pred_proba = rf_model.predict_proba(x_valid_numpy)[:, 1]"
      ],
      "metadata": {
        "id": "0hwS0kjmsk8m"
      },
      "execution_count": null,
      "outputs": []
    },
    {
      "cell_type": "code",
      "source": [
        "evaluate(y_valid, torch.Tensor(y_pred_proba))"
      ],
      "metadata": {
        "colab": {
          "base_uri": "https://localhost:8080/",
          "height": 457
        },
        "id": "G7L7bTDotIVV",
        "outputId": "b5108b5f-e44d-4a6e-b7f7-afbb8f441e69"
      },
      "execution_count": null,
      "outputs": [
        {
          "output_type": "stream",
          "name": "stdout",
          "text": [
            "f1: 0.0, precision: 0.0, recall: 0.0, avg_precision_score: 0.115\n"
          ]
        },
        {
          "output_type": "display_data",
          "data": {
            "text/plain": [
              "<Figure size 1000x400 with 3 Axes>"
            ],
            "image/png": "[encoded data removed]"
          },
          "metadata": {}
        }
      ]
    },
    {
      "cell_type": "markdown",
      "source": [
        "### Define the neural net model"
      ],
      "metadata": {
        "id": "fL73-YSQkSov"
      }
    },
    {
      "cell_type": "code",
      "source": [
        "class MultiLayerPerceptron(torch.nn.Module):\n",
        "  def __init__(self, n_features, n_hidden, n_classes, batch_size=64):\n",
        "    super().__init__()\n",
        "    self.batch_size = batch_size\n",
        "    self.optimizer = None\n",
        "\n",
        "    # Architecture\n",
        "    self.in_layer = torch.nn.Linear(n_features, n_hidden)\n",
        "    self.mid_layer = torch.nn.Linear(n_hidden, n_hidden)\n",
        "    self.out_layer = torch.nn.Linear(n_hidden, n_classes)\n",
        "    self.relu = torch.nn.ReLU()\n",
        "    self.softmax = torch.nn.Softmax()\n",
        "\n",
        "  def forward(self, x):\n",
        "    # flatten?\n",
        "    out = self.in_layer(x)\n",
        "    out = self.relu(out)\n",
        "    out = self.mid_layer(out)\n",
        "    out = self.relu(out)\n",
        "    out = self.out_layer(out)\n",
        "    return self.softmax(out)\n",
        "\n",
        "  def set_optimizer(self, learning_rate=1e-4):\n",
        "    # self.optimizer = torch.optim.Adam(self.parameters(), lr=learning_rate)\n",
        "    pass\n",
        "\n",
        "  def fit(self, x, y):\n",
        "    self.train()\n",
        "    pass\n",
        "\n",
        "  def predict(self, x):\n",
        "    self.eval()\n",
        "    pass\n",
        "\n",
        "  def build_dataloader(self, x, y=None):\n",
        "    pass"
      ],
      "metadata": {
        "id": "4xAyTOhnkc3j"
      },
      "execution_count": null,
      "outputs": []
    },
    {
      "cell_type": "code",
      "source": [
        "N_FEATURES = x_train.shape[1]\n",
        "N_HIDDEN = 128"
      ],
      "metadata": {
        "id": "VvAfcEpGTfih"
      },
      "execution_count": null,
      "outputs": []
    },
    {
      "cell_type": "code",
      "source": [
        "nn_model = MultiLayerPerceptron(\n",
        "  n_features=N_FEATURES, \n",
        "  n_hidden=N_HIDDEN, \n",
        "  n_classes=2,\n",
        ")"
      ],
      "metadata": {
        "id": "8S9yO47Ckc0P"
      },
      "execution_count": null,
      "outputs": []
    },
    {
      "cell_type": "markdown",
      "source": [
        "---"
      ],
      "metadata": {
        "id": "lra1UgYZVBv8"
      }
    },
    {
      "cell_type": "markdown",
      "source": [
        "### Train"
      ],
      "metadata": {
        "id": "EnU26p9ulTXM"
      }
    },
    {
      "cell_type": "markdown",
      "source": [
        "Train using [this guide](https://github.com/christianversloot/machine-learning-articles/blob/main/creating-a-multilayer-perceptron-with-pytorch-and-lightning.md)."
      ],
      "metadata": {
        "id": "U0lt6PKNWD9A"
      }
    },
    {
      "cell_type": "code",
      "source": [
        "loss_function = torch.nn.CrossEntropyLoss()\n",
        "optimizer = torch.optim.Adam(nn_model.parameters(), lr=1e-4)"
      ],
      "metadata": {
        "id": "pz838X6alUN2"
      },
      "execution_count": null,
      "outputs": []
    },
    {
      "cell_type": "code",
      "source": [
        "for epoch in range(5):\n",
        "  pass\n",
        "  # continue here"
      ],
      "metadata": {
        "id": "i778sCpClUue"
      },
      "execution_count": null,
      "outputs": []
    },
    {
      "cell_type": "markdown",
      "source": [
        "---"
      ],
      "metadata": {
        "id": "acrVnaxKU_qh"
      }
    }
  ]
}